{
 "cells": [
  {
   "cell_type": "markdown",
   "id": "51000cf6",
   "metadata": {},
   "source": [
    "Q1. What is the KNN algorithm?"
   ]
  },
  {
   "cell_type": "markdown",
   "id": "c7067725",
   "metadata": {},
   "source": [
    "Ans:- It is a type of instance-based learning method used for both classifications and regression. it works by comparing a test for both classification and regression. it works by comparing a test sample with 'k training samples that are closest inj the feature space. A test sample is classsified by a majority vote of its neighbours, with the test sample being assigned to the class most common among its 'K' nearest neighbours."
   ]
  },
  {
   "cell_type": "markdown",
   "id": "3335802d",
   "metadata": {},
   "source": [
    "Q2. How do you choose the value of K in KNN?"
   ]
  },
  {
   "cell_type": "markdown",
   "id": "8cf05a45",
   "metadata": {},
   "source": [
    "Ans:- Choosing the optimal value of 'k' in KNN is crucial. A common rule of thumb is to choose k = sqrt(N)/2, where N is the number of samples in your training dataset2. However, there are no predefined statistical methods to find the most favorable value of K. It’s often best to run through each possible value for k and decide based on the results"
   ]
  },
  {
   "cell_type": "markdown",
   "id": "a1575e64",
   "metadata": {},
   "source": [
    "Q3. What is the difference between KNN classifier and KNN regressor?"
   ]
  },
  {
   "cell_type": "markdown",
   "id": "ac8008a7",
   "metadata": {},
   "source": [
    "Ans:-  The key difference between KNN classifier and KNN regressor lies in their output. KNN classifier predicts the class of a test instance based on the majority class of its ‘k’ nearest neighbors. On the other hand, KNN regressor predicts a continuous output value based on the average (or other aggregation) of the values of its ‘k’ nearest neighbors3."
   ]
  },
  {
   "cell_type": "markdown",
   "id": "52898eef",
   "metadata": {},
   "source": [
    "Q4. How do you measure the performance of KNN?"
   ]
  },
  {
   "cell_type": "markdown",
   "id": "ecfc8ff5",
   "metadata": {},
   "source": [
    "Ans:- The performance of KNN can be measured using various metrics depending on the task. For classification tasks, metrics like accuracy , precision ,recall , F1-score, and area under the ROC curve can be used.  For regression tasks, metrics like Mean Absolute Error (MAE), Mean Squared Error (MSE), Root Mean Squared Error (RMSE), and R-squared can be used."
   ]
  },
  {
   "cell_type": "markdown",
   "id": "2d739dbd",
   "metadata": {},
   "source": [
    "Q5. What is the curse of dimensionality in KNN?"
   ]
  },
  {
   "cell_type": "markdown",
   "id": "a6111e8a",
   "metadata": {},
   "source": [
    "Ans:- The curse of dimensionality in KNN refers to the problem that arises in high-dimensional spaces, where the distances between nearest and farthest points from query points become almost equal. This makes it difficult for the KNN algorithm to discriminate between relevant and irrelevant attributes, leading to poor performance."
   ]
  },
  {
   "cell_type": "markdown",
   "id": "5abc64d3",
   "metadata": {},
   "source": [
    "Q6. How do you handle missing values in KNN?"
   ]
  },
  {
   "cell_type": "markdown",
   "id": "451aea61",
   "metadata": {},
   "source": [
    "Ans:- Missing values in KNN can be handled using various imputation methods. One popular approach is KNN imputation, where the missing values of an observation are imputed using the values of ‘k’ nearest neighbors. The imputed value could be the mean (for continuous variables) or mode (for categorical variables) of the ‘k’ nearest neighbors."
   ]
  },
  {
   "cell_type": "code",
   "execution_count": null,
   "id": "37cee9e7",
   "metadata": {},
   "outputs": [],
   "source": []
  }
 ],
 "metadata": {
  "kernelspec": {
   "display_name": "Python 3 (ipykernel)",
   "language": "python",
   "name": "python3"
  },
  "language_info": {
   "codemirror_mode": {
    "name": "ipython",
    "version": 3
   },
   "file_extension": ".py",
   "mimetype": "text/x-python",
   "name": "python",
   "nbconvert_exporter": "python",
   "pygments_lexer": "ipython3",
   "version": "3.11.4"
  }
 },
 "nbformat": 4,
 "nbformat_minor": 5
}
